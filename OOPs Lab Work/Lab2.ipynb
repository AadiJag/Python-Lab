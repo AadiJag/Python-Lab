{
 "cells": [
  {
   "cell_type": "markdown",
   "id": "d13f1886-cac3-4363-9331-a94b83581bf9",
   "metadata": {},
   "source": [
    "## Q1"
   ]
  },
  {
   "cell_type": "code",
   "execution_count": 13,
   "id": "ee333f39-4f84-4749-8233-a93d022cf2da",
   "metadata": {},
   "outputs": [
    {
     "name": "stdin",
     "output_type": "stream",
     "text": [
      "enter x1: 2\n",
      "enter x2: 1\n",
      "enter y1: 2\n",
      "enter y2: 1\n"
     ]
    },
    {
     "name": "stdout",
     "output_type": "stream",
     "text": [
      "2.0\n"
     ]
    }
   ],
   "source": [
    "import math\n",
    "x1=float(input(\"enter x1:\"))\n",
    "x2=float(input(\"enter x2:\"))\n",
    "y1=float(input(\"enter y1:\"))\n",
    "y2=float(input(\"enter y2:\"))\n",
    "dist = math.sqrt((x2-x1)**2) + ((y2-y1)**2)\n",
    "print(dist)"
   ]
  },
  {
   "cell_type": "markdown",
   "id": "b2faf94e-961b-4ca3-a8f9-9905381e8064",
   "metadata": {},
   "source": [
    "## Q2"
   ]
  },
  {
   "cell_type": "code",
   "execution_count": 45,
   "id": "e90aab1d-89f0-41c7-ba03-d3b84908da4f",
   "metadata": {},
   "outputs": [
    {
     "name": "stdout",
     "output_type": "stream",
     "text": [
      "enter 25 numbers =\n"
     ]
    },
    {
     "name": "stdin",
     "output_type": "stream",
     "text": [
      " 1 2 3 4 5 6 7 8 9 10 11 12 13 14 15 16 17 18 19 20 21 22 23 24 25\n"
     ]
    },
    {
     "ename": "ValueError",
     "evalue": "could not convert string to float: '1 2 3 4 5 6 7 8 9 10 11 12 13 14 15 16 17 18 19 20 21 22 23 24 25'",
     "output_type": "error",
     "traceback": [
      "\u001b[1;31m---------------------------------------------------------------------------\u001b[0m",
      "\u001b[1;31mValueError\u001b[0m                                Traceback (most recent call last)",
      "Cell \u001b[1;32mIn[45], line 4\u001b[0m\n\u001b[0;32m      2\u001b[0m \u001b[38;5;28mprint\u001b[39m(\u001b[38;5;124m\"\u001b[39m\u001b[38;5;124menter 25 numbers =\u001b[39m\u001b[38;5;124m\"\u001b[39m)\n\u001b[0;32m      3\u001b[0m \u001b[38;5;28;01mfor\u001b[39;00m _ \u001b[38;5;129;01min\u001b[39;00m \u001b[38;5;28mrange\u001b[39m(\u001b[38;5;241m25\u001b[39m):\n\u001b[1;32m----> 4\u001b[0m     numb \u001b[38;5;241m=\u001b[39m \u001b[38;5;28mfloat\u001b[39m(\u001b[38;5;28minput\u001b[39m())\n\u001b[0;32m      5\u001b[0m     numbers\u001b[38;5;241m.\u001b[39mappend(num)\n\u001b[0;32m      6\u001b[0m     mean_value\u001b[38;5;241m=\u001b[39m mean(numb)\n",
      "\u001b[1;31mValueError\u001b[0m: could not convert string to float: '1 2 3 4 5 6 7 8 9 10 11 12 13 14 15 16 17 18 19 20 21 22 23 24 25'"
     ]
    }
   ],
   "source": [
    "numb=[]\n",
    "print(\"enter 25 numbers =\")\n",
    "for _ in range(25):\n",
    "    numb = float(input())\n",
    "    numbers.append(num)\n",
    "    mean_value= mean(numb)\n",
    "    median_value=median(numb)\n",
    "    try:\n",
    "        mode_value+mode(numb)\n",
    "    except:\n",
    "        mode_value = \"no unique mode\"\n",
    "    print(mean_value)\n",
    "    print(mode_value)\n",
    "    print(median_value)\n",
    "        "
   ]
  },
  {
   "cell_type": "markdown",
   "id": "af36840d-d345-4fb0-ae1f-6834997b525b",
   "metadata": {},
   "source": [
    "## Q3"
   ]
  },
  {
   "cell_type": "code",
   "execution_count": 49,
   "id": "9130f8be-3f71-4217-b120-6cd87c696bf4",
   "metadata": {},
   "outputs": [
    {
     "name": "stdin",
     "output_type": "stream",
     "text": [
      "Enter the radius : 7\n"
     ]
    },
    {
     "name": "stdout",
     "output_type": "stream",
     "text": [
      "153.93791\n"
     ]
    }
   ],
   "source": [
    "pi = 3.14159\n",
    "rad=float(input(\"Enter the radius :\"))\n",
    "area = pi*(rad**2)\n",
    "print(area)\n"
   ]
  },
  {
   "cell_type": "markdown",
   "id": "18f231e7-6599-409d-a4a9-12bf1dbf9df8",
   "metadata": {},
   "source": [
    "## Q4"
   ]
  },
  {
   "cell_type": "code",
   "execution_count": 60,
   "id": "f9d8dc9e-adf0-4ccb-91dc-9c586546fa0a",
   "metadata": {},
   "outputs": [
    {
     "name": "stdin",
     "output_type": "stream",
     "text": [
      "enter the 1st input: 10\n",
      "enter the 2nd input: 20\n",
      "enter the 3rd input: 30\n"
     ]
    },
    {
     "name": "stdout",
     "output_type": "stream",
     "text": [
      "<class 'int'>\n",
      "<class 'int'>\n",
      "<class 'float'>\n"
     ]
    }
   ],
   "source": [
    "input1 = int(input(\"enter the 1st input:\"))\n",
    "input2 = int(input(\"enter the 2nd input:\"))\n",
    "input3 = float(input(\"enter the 3rd input:\"))\n",
    "print(type(input1))\n",
    "print(type(input2))\n",
    "print(type(input3))\n"
   ]
  },
  {
   "cell_type": "markdown",
   "id": "9c5336a1-39e4-47d1-9d2f-c59875982883",
   "metadata": {},
   "source": [
    "## Q5\n"
   ]
  },
  {
   "cell_type": "code",
   "execution_count": 71,
   "id": "bcb5d1d0-43ca-466b-b77e-d8de160ad08b",
   "metadata": {},
   "outputs": [
    {
     "name": "stdin",
     "output_type": "stream",
     "text": [
      "Enter 1st number : 10\n",
      "Enter 2nd number : 20\n"
     ]
    },
    {
     "name": "stdout",
     "output_type": "stream",
     "text": [
      "30.0\n",
      "-10.0\n",
      "0.5\n",
      "200.0\n"
     ]
    }
   ],
   "source": [
    "a = float(input(\"Enter 1st number :\"))\n",
    "b = float(input(\"Enter 2nd number :\"))\n",
    "print(a+b)\n",
    "print(a-b)\n",
    "print(a/b)\n",
    "print(a*b)"
   ]
  },
  {
   "cell_type": "code",
   "execution_count": null,
   "id": "848d570e-c909-44be-9766-8c025a54a35a",
   "metadata": {},
   "outputs": [],
   "source": []
  }
 ],
 "metadata": {
  "kernelspec": {
   "display_name": "Python 3 (ipykernel)",
   "language": "python",
   "name": "python3"
  },
  "language_info": {
   "codemirror_mode": {
    "name": "ipython",
    "version": 3
   },
   "file_extension": ".py",
   "mimetype": "text/x-python",
   "name": "python",
   "nbconvert_exporter": "python",
   "pygments_lexer": "ipython3",
   "version": "3.12.4"
  }
 },
 "nbformat": 4,
 "nbformat_minor": 5
}
