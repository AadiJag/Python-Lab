{
 "cells": [
  {
   "cell_type": "markdown",
   "id": "5f05d69a-d8e0-443c-9df8-d8c29a9bb525",
   "metadata": {},
   "source": [
    "## Q1"
   ]
  },
  {
   "cell_type": "code",
   "execution_count": 5,
   "id": "19230eef-5445-4ddb-978e-788013ea20df",
   "metadata": {},
   "outputs": [],
   "source": [
    "first_name =\"Aaditya\""
   ]
  },
  {
   "cell_type": "code",
   "execution_count": 15,
   "id": "83c0ba91-8793-4f1e-b6f9-4caf01a2df98",
   "metadata": {},
   "outputs": [],
   "source": [
    "last_name=\" Jagdish\""
   ]
  },
  {
   "cell_type": "code",
   "execution_count": 9,
   "id": "caf85cbd-f586-47e9-8caa-f8aa3a59e489",
   "metadata": {},
   "outputs": [
    {
     "name": "stdout",
     "output_type": "stream",
     "text": [
      "Aaditya\n",
      "Jagdish\n"
     ]
    }
   ],
   "source": [
    "print(first_name)\n",
    "print(last_name)"
   ]
  },
  {
   "cell_type": "code",
   "execution_count": 17,
   "id": "49d8928f-a04c-473d-a2d1-dc83998c9aa6",
   "metadata": {},
   "outputs": [
    {
     "name": "stdout",
     "output_type": "stream",
     "text": [
      "Aaditya Jagdish\n"
     ]
    }
   ],
   "source": [
    "print(first_name+ last_name)"
   ]
  },
  {
   "cell_type": "code",
   "execution_count": null,
   "id": "1e91ebaf-8b21-49a8-9d20-d2a24ae81241",
   "metadata": {},
   "outputs": [],
   "source": []
  }
 ],
 "metadata": {
  "kernelspec": {
   "display_name": "Python 3 (ipykernel)",
   "language": "python",
   "name": "python3"
  },
  "language_info": {
   "codemirror_mode": {
    "name": "ipython",
    "version": 3
   },
   "file_extension": ".py",
   "mimetype": "text/x-python",
   "name": "python",
   "nbconvert_exporter": "python",
   "pygments_lexer": "ipython3",
   "version": "3.12.4"
  }
 },
 "nbformat": 4,
 "nbformat_minor": 5
}
