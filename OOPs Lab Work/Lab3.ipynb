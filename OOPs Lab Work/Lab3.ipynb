{
 "cells": [
  {
   "cell_type": "markdown",
   "id": "1f412294-fcd5-484e-9c15-83fd0841c6e2",
   "metadata": {},
   "source": [
    "## Q1\n"
   ]
  },
  {
   "cell_type": "code",
   "execution_count": 20,
   "id": "93eeb44f-bfbe-4650-b06e-487e0a93106b",
   "metadata": {},
   "outputs": [
    {
     "name": "stdin",
     "output_type": "stream",
     "text": [
      "Enter a number:  12\n"
     ]
    },
    {
     "name": "stdout",
     "output_type": "stream",
     "text": [
      "Not prime\n"
     ]
    }
   ],
   "source": [
    "num = int(input(\"Enter a number: \"))\n",
    "if num > 1:\n",
    "    flag = 1  \n",
    "    for i in range(2, int(num**0.5) + 1):\n",
    "        if num % i == 0: \n",
    "            print(\"Not prime\")\n",
    "            flag = 0 \n",
    "        break\n",
    "    if flag == 1:\n",
    "        print(\"Prime\")\n",
    "else:\n",
    "    print(\"Not prime\")"
   ]
  },
  {
   "cell_type": "markdown",
   "id": "6f8e31ca-1ff3-40b4-a25c-f9195d0914e0",
   "metadata": {},
   "source": [
    "## Q2"
   ]
  },
  {
   "cell_type": "code",
   "execution_count": 25,
   "id": "5b7659ed-822d-4485-8a65-8b0da7010caf",
   "metadata": {},
   "outputs": [
    {
     "name": "stdin",
     "output_type": "stream",
     "text": [
      "Enter a number:  1234\n"
     ]
    },
    {
     "name": "stdout",
     "output_type": "stream",
     "text": [
      "Not Palindrome\n"
     ]
    }
   ],
   "source": [
    "num = int(input(\"Enter a number: \"))\n",
    "if str(num) == str(num) [:: -1] :\n",
    "    print(\"Palindrome\")\n",
    "else:\n",
    "    print(\"Not Palindrome\")"
   ]
  },
  {
   "cell_type": "markdown",
   "id": "27ce682e-6d92-4f8c-8f0a-771948d41715",
   "metadata": {},
   "source": [
    "## Q3"
   ]
  },
  {
   "cell_type": "code",
   "execution_count": 44,
   "id": "19ff39f9-5745-4125-918f-caadcf6f3b36",
   "metadata": {},
   "outputs": [
    {
     "name": "stdin",
     "output_type": "stream",
     "text": [
      "Enter a number: 10\n",
      "Enter a number: 100\n",
      "Enter an operation: -\n"
     ]
    },
    {
     "name": "stdout",
     "output_type": "stream",
     "text": [
      "-90.0\n"
     ]
    }
   ],
   "source": [
    "num1=float(input(\"Enter a number:\"))\n",
    "num2=float(input(\"Enter a number:\"))\n",
    "op=input(\"Enter an operation:\")\n",
    "if op =='+' :\n",
    "    print(num1+num2)\n",
    "elif op == '-':\n",
    "        print(num1-num2)\n",
    "elif op == '*':\n",
    "        print(num1*num2)\n",
    "elif op == '/':\n",
    "        print(num1/num2)\n",
    "\n",
    "\n",
    "\n"
   ]
  },
  {
   "cell_type": "code",
   "execution_count": null,
   "id": "88aa2d50-9cd5-4c83-bce8-bf9badb3758f",
   "metadata": {},
   "outputs": [],
   "source": []
  }
 ],
 "metadata": {
  "kernelspec": {
   "display_name": "Python 3 (ipykernel)",
   "language": "python",
   "name": "python3"
  },
  "language_info": {
   "codemirror_mode": {
    "name": "ipython",
    "version": 3
   },
   "file_extension": ".py",
   "mimetype": "text/x-python",
   "name": "python",
   "nbconvert_exporter": "python",
   "pygments_lexer": "ipython3",
   "version": "3.12.4"
  }
 },
 "nbformat": 4,
 "nbformat_minor": 5
}
